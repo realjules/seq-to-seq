{
 "cells": [
  {
   "cell_type": "markdown",
   "metadata": {},
   "source": [
    "# Speech Recognition Training\n",
    "\n",
    "This notebook provides a simple interface for training the ASR model."
   ]
  },
  {
   "cell_type": "code",
   "execution_count": null,
   "metadata": {},
   "source": [
    "import torch\n",
    "from train import train\n",
    "\n",
    "# Configuration\n",
    "config = {\n",
    "    'input_dim': 40,  # Feature dimension\n",
    "    'hidden_dim': 512,  # LSTM hidden dimension\n",
    "    'num_layers': 4,  # Number of LSTM layers\n",
    "    'num_classes': 29,  # Number of output classes\n",
    "    'dropout': 0.1,  # Dropout rate\n",
    "    'batch_size': 32,\n",
    "    'learning_rate': 1e-3,\n",
    "    'epochs': 100,\n",
    "    'patience': 10,\n",
    "    'beam_width': 10,\n",
    "    'labels': ['-'] + list('ABCDEFGHIJKLMNOPQRSTUVWXYZ\\'_ '),  # CTC labels\n",
    "    'train_path': 'data/train.csv',\n",
    "    'val_path': 'data/val.csv',\n",
    "    'feature_path': 'data/features',\n",
    "    'save_dir': 'checkpoints'\n",
    "}\n",
    "\n",
    "# Check CUDA availability\n",
    "device = torch.device('cuda' if torch.cuda.is_available() else 'cpu')\n",
    "print(f\"Using device: {device}\")"
   ]
  },
  {
   "cell_type": "code",
   "execution_count": null,
   "metadata": {},
   "source": [
    "# Start training\n",
    "train(config)"
   ]
  }
 ],
 "metadata": {
  "kernelspec": {
   "display_name": "Python 3",
   "language": "python",
   "name": "python3"
  },
  "language_info": {
   "codemirror_mode": {
    "name": "ipython",
    "version": 3
   },
   "file_extension": ".py",
   "mimetype": "text/x-python",
   "name": "python",
   "nbconvert_exporter": "python",
   "pygments_lexer": "ipython3",
   "version": "3.10.14"
  }
 },
 "nbformat": 4,
 "nbformat_minor": 4
}